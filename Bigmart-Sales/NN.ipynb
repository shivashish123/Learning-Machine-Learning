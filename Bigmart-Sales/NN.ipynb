{
 "cells": [
  {
   "cell_type": "code",
   "execution_count": 1,
   "metadata": {},
   "outputs": [],
   "source": [
    "#preprocessing dataset\n",
    "#removing nans with mean value\n",
    "\n",
    "import pandas as pd\n",
    "import numpy as np\n",
    "import tensorflow as tf\n",
    "from sklearn.preprocessing import LabelEncoder\n",
    "le = LabelEncoder()\n",
    "df = pd.read_csv('Train.csv')\n",
    "df2 = pd.read_csv('Test.csv')\n",
    "X_train = np.zeros((8523,11))\n",
    "X_test = np.zeros((5681,11))\n",
    "list1 = ['Item_Identifier', 'Item_Fat_Content', 'Item_Type', 'Outlet_Identifier', 'Outlet_Establishment_Year', 'Outlet_Size', 'Outlet_Location_Type', 'Outlet_Type']\n",
    "list2 = ['Item_Weight' , 'Item_Visibility', 'Item_MRP']\n",
    "cnt = 0 \n",
    "for item in list1: \n",
    "    df[item] = df[item].replace(np.nan, '', regex=True)\n",
    "    temp = df[item].values\n",
    "    le.fit(temp)\n",
    "    temp = le.transform(temp) \n",
    "    mean_value = np.mean(temp[temp > 0])\n",
    "    temp[temp == 0] = mean_value\n",
    "    X_train[:,cnt] = temp\n",
    "    df2[item] = df2[item].replace(np.nan, '', regex=True)\n",
    "    temp2 = df2[item].values\n",
    "    le.fit(temp2)\n",
    "    temp2 = le.transform(temp2) \n",
    "    mean_value2 = np.mean(temp2[temp2 > 0])\n",
    "    temp2[temp2 == 0] = mean_value2\n",
    "    X_test[:,cnt] = temp2\n",
    "    cnt = cnt+1\n",
    "for item in list2:\n",
    "    df[item] = df[item].replace(np.nan, 0, regex=True)\n",
    "    temp = df[item].values\n",
    "    mean_value = np.mean(temp[temp > 0])\n",
    "    temp[temp == 0] = mean_value\n",
    "    X_train[:,cnt] = temp\n",
    "    df2[item] = df2[item].replace(np.nan, 0, regex=True)\n",
    "    temp2 = df2[item].values\n",
    "    mean_value2 = np.mean(temp2[temp2 > 0])\n",
    "    temp2[temp2 == 0] = mean_value2\n",
    "    X_test[:,cnt] = temp2\n",
    "    cnt = cnt+1\n",
    "Y_train = np.zeros((8523,1))\n",
    "Y_test = np.zeros((8523,1))\n",
    "df['Item_Outlet_Sales'] = df['Item_Outlet_Sales'].replace(np.nan, 0, regex=True)\n",
    "temp = df['Item_Outlet_Sales'].values\n",
    "mean_value = np.mean(temp[temp > 0])\n",
    "temp[temp == 0] = mean_value\n",
    "Y_train[:,0] = temp"
   ]
  },
  {
   "cell_type": "code",
   "execution_count": 2,
   "metadata": {},
   "outputs": [
    {
     "name": "stdout",
     "output_type": "stream",
     "text": [
      "\n",
      "WARNING: The TensorFlow contrib module will not be included in TensorFlow 2.0.\n",
      "For more information, please see:\n",
      "  * https://github.com/tensorflow/community/blob/master/rfcs/20180907-contrib-sunset.md\n",
      "  * https://github.com/tensorflow/addons\n",
      "If you depend on functionality not listed there, please file an issue.\n",
      "\n",
      "WARNING:tensorflow:From /home/shivashish/anaconda3/lib/python3.7/site-packages/tensorflow/python/framework/op_def_library.py:263: colocate_with (from tensorflow.python.framework.ops) is deprecated and will be removed in a future version.\n",
      "Instructions for updating:\n",
      "Colocations handled automatically by placer.\n"
     ]
    }
   ],
   "source": [
    "W1 = tf.get_variable(\"W1\", [10,11], initializer = tf.contrib.layers.xavier_initializer(seed = 1))\n",
    "W2 = tf.get_variable(\"W2\", [5,10], initializer = tf.contrib.layers.xavier_initializer(seed = 1))\n",
    "W3 = tf.get_variable(\"W3\", [1,5], initializer = tf.contrib.layers.xavier_initializer(seed = 1))\n",
    "b1 = tf.get_variable(\"b1\", [1,10], initializer = tf.zeros_initializer())\n",
    "b2 = tf.get_variable(\"b2\", [1,5], initializer = tf.zeros_initializer())\n",
    "b3 = tf.get_variable(\"b3\", [1,1], initializer = tf.zeros_initializer())\n",
    "parameters = {\"W1\":W1 , \"W2\":W2,\"W3\":W3, \"b1\":b1, \"b2\":b2, \"b3\":b3 }"
   ]
  },
  {
   "cell_type": "code",
   "execution_count": 3,
   "metadata": {},
   "outputs": [],
   "source": [
    "def forward_propagation(X, parameters):\n",
    "    W1 = parameters['W1']\n",
    "    W2 = parameters['W2']\n",
    "    W3 = parameters['W3']\n",
    "    b1 = parameters['b1']\n",
    "    b2 = parameters['b2']\n",
    "    b3 = parameters['b3']\n",
    "    Z1 = tf.add(tf.matmul(X,tf.transpose(W1)),b1)\n",
    "    A1 = tf.nn.relu(Z1)\n",
    "    Z2 = tf.add(tf.matmul(A1,tf.transpose(W2)),b2)\n",
    "    A2 = tf.nn.relu(Z2)\n",
    "    Z3 = tf.add(tf.matmul(A2,tf.transpose(W3)),b3)\n",
    "    return Z3"
   ]
  },
  {
   "cell_type": "code",
   "execution_count": 9,
   "metadata": {},
   "outputs": [
    {
     "name": "stdout",
     "output_type": "stream",
     "text": [
      "(8523, 1)\n",
      "(8523, 1)\n"
     ]
    }
   ],
   "source": [
    "XP = tf.placeholder(tf.float32,shape=(8523,11), name=\"X\")\n",
    "XP1 = tf.placeholder(tf.float32,shape=(5681,11), name=\"X1\")\n",
    "YP = tf.placeholder(tf.float32,shape=(8523,1), name=\"Y\")\n",
    "Z3 = forward_propagation(XP,parameters)\n",
    "print(Y_train.shape)\n",
    "print(Z3.shape)\n",
    "cost = tf.sqrt(tf.reduce_mean(tf.losses.mean_squared_error(Y_train,Z3))/8523)\n",
    "optimizer = tf.train.AdamOptimizer(learning_rate = 0.003).minimize(cost)\n",
    "init = tf.global_variables_initializer()\n",
    "sess = tf.Session()\n",
    "sess.run(init)\n",
    "for i in range(10000):\n",
    "    _,min_cost = sess.run([optimizer,cost] ,feed_dict={XP : X_train, YP: Y_train})"
   ]
  },
  {
   "cell_type": "code",
   "execution_count": 18,
   "metadata": {},
   "outputs": [
    {
     "name": "stdout",
     "output_type": "stream",
     "text": [
      "(5681,)\n"
     ]
    }
   ],
   "source": [
    "Z4 = forward_propagation(XP1,parameters)\n",
    "Z4 = sess.run(Z4,feed_dict={XP1 : X_test} )\n",
    "tem1 = df2['Item_Identifier'].values\n",
    "tem2 = df2['Outlet_Identifier'].values\n",
    "mycsv = open(\"output.csv\", \"w\")\n",
    "columnTitleRow = \"Item_Identifier,Outlet_Identifier,Item_Outlet_Sales\\n\"\n",
    "print(tem2.shape)\n",
    "mycsv.write(columnTitleRow)\n",
    "for i in range(5681):\n",
    "    row = str(tem1[i]) + \",\" + str(tem2[i]) + \",\" + str(Z4[i][0]) + \"\\n\"\n",
    "    mycsv.write(row)"
   ]
  },
  {
   "cell_type": "code",
   "execution_count": null,
   "metadata": {},
   "outputs": [],
   "source": []
  }
 ],
 "metadata": {
  "kernelspec": {
   "display_name": "Python 3",
   "language": "python",
   "name": "python3"
  },
  "language_info": {
   "codemirror_mode": {
    "name": "ipython",
    "version": 3
   },
   "file_extension": ".py",
   "mimetype": "text/x-python",
   "name": "python",
   "nbconvert_exporter": "python",
   "pygments_lexer": "ipython3",
   "version": "3.7.3"
  }
 },
 "nbformat": 4,
 "nbformat_minor": 2
}
