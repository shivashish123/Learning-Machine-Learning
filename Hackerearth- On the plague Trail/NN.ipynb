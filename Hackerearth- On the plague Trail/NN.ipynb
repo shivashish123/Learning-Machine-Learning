{
 "cells": [
  {
   "cell_type": "code",
   "execution_count": 1,
   "metadata": {},
   "outputs": [
    {
     "name": "stdout",
     "output_type": "stream",
     "text": [
      "PG\n",
      "(40000, 37)\n"
     ]
    }
   ],
   "source": [
    "import pandas as pd\n",
    "import numpy as np\n",
    "import tensorflow as tf\n",
    "from sklearn.preprocessing import LabelEncoder\n",
    "le = LabelEncoder()\n",
    "df = pd.read_csv('train.csv')\n",
    "df2 = pd.read_csv('test.csv')\n",
    "items = pd.read_csv('train.csv',nrows=1).columns\n",
    "print(items[36])\n",
    "#print(df[\"HiDir\"].values)\n",
    "print(df.shape)"
   ]
  },
  {
   "cell_type": "code",
   "execution_count": 2,
   "metadata": {},
   "outputs": [],
   "source": [
    "X_train = np.zeros((40000,28))\n",
    "X_test = np.zeros((22446,28))\n",
    "Y_train =  np.zeros((40000,7))\n",
    "Y_test = np.zeros((22446,7))\n",
    "for i in range(2,8):\n",
    "    temp = df[items[i]].values\n",
    "    X_train[:,(i-2)]=temp\n",
    "temp = df[items[8]].values\n",
    "le.fit(temp)\n",
    "temp = le.transform(temp) \n",
    "X_train[:,6]=temp\n",
    "for i in range(9,10):\n",
    "    temp = df[items[i]].values\n",
    "    X_train[:,(i-2)]=temp\n",
    "temp = df[items[11]].values\n",
    "le.fit(temp)\n",
    "temp = le.transform(temp) \n",
    "X_train[:,9]=temp\n",
    "for i in range(12,30):\n",
    "    temp = df[items[i]].values\n",
    "    X_train[:,(i-2)]=temp"
   ]
  },
  {
   "cell_type": "code",
   "execution_count": 3,
   "metadata": {},
   "outputs": [],
   "source": [
    "for i in range(2,8):\n",
    "    temp = df2[items[i]].values\n",
    "    X_test[:,(i-2)]=temp\n",
    "temp = df2[items[8]].values\n",
    "le.fit(temp)\n",
    "temp = le.transform(temp) \n",
    "X_test[:,6]=temp\n",
    "for i in range(9,10):\n",
    "    temp = df2[items[i]].values\n",
    "    X_test[:,(i-2)]=temp\n",
    "temp = df2[items[11]].values\n",
    "le.fit(temp)\n",
    "temp = le.transform(temp) \n",
    "X_test[:,9]=temp\n",
    "for i in range(12,30):\n",
    "    temp = df2[items[i]].values\n",
    "    X_test[:,(i-2)]=temp"
   ]
  },
  {
   "cell_type": "code",
   "execution_count": 4,
   "metadata": {},
   "outputs": [],
   "source": [
    "for i in range(30,37):\n",
    "    temp = df[items[i]].values\n",
    "    Y_train[:,(i-30)]=temp"
   ]
  },
  {
   "cell_type": "code",
   "execution_count": 5,
   "metadata": {},
   "outputs": [
    {
     "name": "stdout",
     "output_type": "stream",
     "text": [
      "\n",
      "WARNING: The TensorFlow contrib module will not be included in TensorFlow 2.0.\n",
      "For more information, please see:\n",
      "  * https://github.com/tensorflow/community/blob/master/rfcs/20180907-contrib-sunset.md\n",
      "  * https://github.com/tensorflow/addons\n",
      "If you depend on functionality not listed there, please file an issue.\n",
      "\n",
      "WARNING:tensorflow:From /home/shivashish/anaconda3/lib/python3.7/site-packages/tensorflow/python/framework/op_def_library.py:263: colocate_with (from tensorflow.python.framework.ops) is deprecated and will be removed in a future version.\n",
      "Instructions for updating:\n",
      "Colocations handled automatically by placer.\n"
     ]
    }
   ],
   "source": [
    "W1 = tf.get_variable(\"W1\", [14,28], initializer = tf.contrib.layers.xavier_initializer(seed = 1))\n",
    "W2 = tf.get_variable(\"W2\", [10,14], initializer = tf.contrib.layers.xavier_initializer(seed = 1))\n",
    "W3 = tf.get_variable(\"W3\", [7,10], initializer = tf.contrib.layers.xavier_initializer(seed = 1))\n",
    "b1 = tf.get_variable(\"b1\", [1,14], initializer = tf.zeros_initializer())\n",
    "b2 = tf.get_variable(\"b2\", [1,10], initializer = tf.zeros_initializer())\n",
    "b3 = tf.get_variable(\"b3\", [1,7], initializer = tf.zeros_initializer())\n",
    "parameters = {\"W1\":W1 , \"W2\":W2,\"W3\":W3, \"b1\":b1, \"b2\":b2, \"b3\":b3 }"
   ]
  },
  {
   "cell_type": "code",
   "execution_count": 6,
   "metadata": {},
   "outputs": [],
   "source": [
    "def forward_propagation(X, parameters):\n",
    "    W1 = parameters['W1']\n",
    "    W2 = parameters['W2']\n",
    "    W3 = parameters['W3']\n",
    "    b1 = parameters['b1']\n",
    "    b2 = parameters['b2']\n",
    "    b3 = parameters['b3']\n",
    "    Z1 = tf.add(tf.matmul(X,tf.transpose(W1)),b1)\n",
    "    A1 = tf.nn.relu(Z1)\n",
    "    Z2 = tf.add(tf.matmul(A1,tf.transpose(W2)),b2)\n",
    "    A2 = tf.nn.relu(Z2)\n",
    "    Z3 = tf.add(tf.matmul(A2,tf.transpose(W3)),b3)\n",
    "    return Z3"
   ]
  },
  {
   "cell_type": "code",
   "execution_count": 18,
   "metadata": {},
   "outputs": [],
   "source": [
    "def rmsletf(y_pred, y_true): \n",
    "    y_pred= tf.cast(y_pred, tf.float64) \n",
    "    y_true= tf.cast(y_true, tf.float64) \n",
    "    y_pred=tf.nn.relu(y_pred) \n",
    "    return tf.sqrt(tf.reduce_mean(tf.squared_difference(tf.log1p(y_pred), tf.log1p(y_true))))"
   ]
  },
  {
   "cell_type": "code",
   "execution_count": 21,
   "metadata": {},
   "outputs": [
    {
     "name": "stdout",
     "output_type": "stream",
     "text": [
      "(40000, 7)\n",
      "(40000, 7)\n",
      "3.2415226487237256\n",
      "2.866300471999093\n",
      "2.855134461590561\n",
      "2.269310008372061\n",
      "2.2190281007346466\n",
      "2.2068801422613964\n",
      "2.1982501952563513\n",
      "2.192018469814168\n",
      "2.1871274740130935\n",
      "2.1840251233162142\n",
      "2.182261414906378\n",
      "2.1793202276940153\n",
      "2.178066757499201\n",
      "2.177309853419186\n",
      "2.1769459918035228\n",
      "2.1764585250800086\n",
      "2.1762591702226497\n",
      "2.176045346388458\n",
      "2.1758766367082716\n",
      "2.175677989987062\n",
      "2.1756544323996994\n",
      "2.175404753415933\n"
     ]
    }
   ],
   "source": [
    "XP = tf.placeholder(tf.float32,shape=(40000,28), name=\"X\")\n",
    "XP1 = tf.placeholder(tf.float32,shape=(22446,28), name=\"X1\")\n",
    "YP = tf.placeholder(tf.float32,shape=(40000,7), name=\"Y\")\n",
    "Z3 = forward_propagation(XP,parameters)\n",
    "print(Y_train.shape)\n",
    "print(Z3.shape)\n",
    "cost = rmsletf(Z3,Y_train)\n",
    "optimizer = tf.train.AdamOptimizer(learning_rate = 0.003).minimize(cost)\n",
    "init = tf.global_variables_initializer()\n",
    "sess = tf.Session()\n",
    "sess.run(init)\n",
    "for i in range(2200):\n",
    "    _,min_cost = sess.run([optimizer,cost] ,feed_dict={XP : X_train, YP: Y_train})\n",
    "    if(i%100==0):\n",
    "        print(min_cost)"
   ]
  },
  {
   "cell_type": "code",
   "execution_count": 24,
   "metadata": {},
   "outputs": [],
   "source": [
    "Z4 = forward_propagation(XP1,parameters)\n",
    "Z4 = sess.run(Z4,feed_dict={XP1 : X_test} )\n",
    "tem1 = df2['ID'].values\n",
    "mycsv = open(\"output.csv\", \"w\")\n",
    "columnTitleRow = \"ID,PA,PB,PC,PD,PE,PF,PG\\n\"\n",
    "mycsv.write(columnTitleRow)\n",
    "for i in range(22446):\n",
    "    row = str(tem1[i]) + \",\" + str(Z4[i][0]) + \",\" + str(Z4[i][1])+ \",\" + str(Z4[i][2]) + \",\" + str(Z4[i][3]) + \",\" + str(Z4[i][4]) + \",\" + str(Z4[i][5]) + \",\" + str(Z4[i][6]) + \"\\n\"\n",
    "    mycsv.write(row)"
   ]
  },
  {
   "cell_type": "code",
   "execution_count": 23,
   "metadata": {},
   "outputs": [
    {
     "name": "stdout",
     "output_type": "stream",
     "text": [
      "(array([], dtype=int64), array([], dtype=int64))\n"
     ]
    }
   ],
   "source": [
    "print(np.where(np.isnan(Z4)))"
   ]
  },
  {
   "cell_type": "code",
   "execution_count": null,
   "metadata": {},
   "outputs": [],
   "source": []
  }
 ],
 "metadata": {
  "kernelspec": {
   "display_name": "Python 3",
   "language": "python",
   "name": "python3"
  },
  "language_info": {
   "codemirror_mode": {
    "name": "ipython",
    "version": 3
   },
   "file_extension": ".py",
   "mimetype": "text/x-python",
   "name": "python",
   "nbconvert_exporter": "python",
   "pygments_lexer": "ipython3",
   "version": "3.7.3"
  }
 },
 "nbformat": 4,
 "nbformat_minor": 2
}
