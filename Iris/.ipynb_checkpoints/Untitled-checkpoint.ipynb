{
 "cells": [
  {
   "cell_type": "code",
   "execution_count": 65,
   "metadata": {},
   "outputs": [],
   "source": [
    "from sklearn.datasets import load_iris \n",
    "from sklearn.utils import shuffle \n",
    "from sklearn.model_selection import train_test_split\n",
    "import numpy as np\n",
    "import tensorflow as tf\n",
    "iris = load_iris() "
   ]
  },
  {
   "cell_type": "code",
   "execution_count": 66,
   "metadata": {},
   "outputs": [
    {
     "name": "stdout",
     "output_type": "stream",
     "text": [
      "(75, 4)\n"
     ]
    }
   ],
   "source": [
    "X = iris.data\n",
    "Y = iris.target\n",
    "X,Y = shuffle(X,Y)\n",
    "X_train, X_test ,Y_train,Y_test = train_test_split(X,Y,test_size=0.5)\n",
    "tf.reset_default_graph()\n",
    "print(X_train.shape)"
   ]
  },
  {
   "cell_type": "code",
   "execution_count": 67,
   "metadata": {},
   "outputs": [],
   "source": [
    "XP = tf.placeholder(tf.float32,shape=(75,4), name=\"X\")\n",
    "XP1 = tf.placeholder(tf.float32,shape=(75,4), name=\"XF\")\n",
    "YP = tf.placeholder(tf.int32,shape=(75,), name=\"Y\")"
   ]
  },
  {
   "cell_type": "code",
   "execution_count": 68,
   "metadata": {},
   "outputs": [
    {
     "name": "stdout",
     "output_type": "stream",
     "text": [
      "0.8933333\n"
     ]
    }
   ],
   "source": [
    "Yoh_train = tf.one_hot(indices=YP,depth=3)\n",
    "b1 = tf.get_variable(\"b1\", [1,4], initializer = tf.zeros_initializer())\n",
    "b2 = tf.get_variable(\"b2\", [1,3], initializer = tf.zeros_initializer())\n",
    "W1 = tf.get_variable(\"W1\", [4,4], initializer = tf.contrib.layers.xavier_initializer(seed = 1))\n",
    "W2 = tf.get_variable(\"W2\", [3,4], initializer = tf.contrib.layers.xavier_initializer(seed = 1))\n",
    "Z1 = tf.add(tf.matmul(XP,tf.transpose(W1)),b1)\n",
    "A1 = tf.nn.tanh(Z1)\n",
    "Z2 = tf.add(tf.matmul(A1,tf.transpose(W2)),b2)\n",
    "A2 = tf.nn.sigmoid(Z2)\n",
    "#sess = tf.Session()\n",
    "#sess.run(Yoh_train)\n",
    "cost = tf.reduce_mean(tf.nn.softmax_cross_entropy_with_logits(logits = A2, labels = Yoh_train))\n",
    "optimizer = tf.train.AdamOptimizer(learning_rate = 0.003).minimize(cost)\n",
    "init = tf.global_variables_initializer()\n",
    "sess = tf.Session()\n",
    "sess.run(init)\n",
    "for i in range(1500):\n",
    "    _,min_cost = sess.run([optimizer,cost] ,feed_dict={XP : X_train, YP: Y_train})\n",
    "Z3 = tf.add(tf.matmul(XP1,tf.transpose(W1)),b1)\n",
    "A3 = tf.nn.relu(Z3)\n",
    "Z4 = tf.add(tf.matmul(A3,tf.transpose(W2)),b2)\n",
    "A4 = tf.nn.sigmoid(Z4)\n",
    "Result = tf.argmax(Z4,axis=-1)\n",
    "correct_prediction = tf.equal(Result, Y_test)\n",
    "accuracy = tf.reduce_mean(tf.cast(correct_prediction, \"float\"))\n",
    "accuracy = sess.run(accuracy,feed_dict={XP1 : X_test})\n",
    "print(accuracy)"
   ]
  },
  {
   "cell_type": "code",
   "execution_count": null,
   "metadata": {},
   "outputs": [],
   "source": []
  }
 ],
 "metadata": {
  "kernelspec": {
   "display_name": "Python 3",
   "language": "python",
   "name": "python3"
  },
  "language_info": {
   "codemirror_mode": {
    "name": "ipython",
    "version": 3
   },
   "file_extension": ".py",
   "mimetype": "text/x-python",
   "name": "python",
   "nbconvert_exporter": "python",
   "pygments_lexer": "ipython3",
   "version": "3.7.3"
  }
 },
 "nbformat": 4,
 "nbformat_minor": 2
}
